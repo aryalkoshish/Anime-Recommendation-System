{
 "cells": [
  {
   "cell_type": "code",
   "execution_count": 5,
   "metadata": {},
   "outputs": [],
   "source": [
    "import pandas as pd\n",
    "import numpy as np\n",
    "from datetime import datetime\n",
    "import matplotlib.pyplot as plt\n",
    "import seaborn as sns\n"
   ]
  },
  {
   "cell_type": "markdown",
   "metadata": {},
   "source": [
    "Data Preprocessing\n",
    "Loading dataset"
   ]
  },
  {
   "cell_type": "code",
   "execution_count": 6,
   "metadata": {},
   "outputs": [],
   "source": [
    "profiles = pd.read_csv('data/profiles.csv')\n",
    "animes = pd.read_csv('data/animes.csv')\n",
    "reviews = pd.read_csv('data/reviews.csv')"
   ]
  },
  {
   "cell_type": "code",
   "execution_count": 7,
   "metadata": {},
   "outputs": [
    {
     "name": "stdout",
     "output_type": "stream",
     "text": [
      "Profiles columns: Index(['profile', 'gender', 'birthday', 'favorites_anime', 'link'], dtype='object')\n",
      "Animes columns: Index(['uid', 'title', 'synopsis', 'genre', 'aired', 'episodes', 'members',\n",
      "       'popularity', 'ranked', 'score', 'img_url', 'link'],\n",
      "      dtype='object')\n",
      "Reviews columns: Index(['uid', 'profile', 'anime_uid', 'text', 'score', 'scores', 'link'], dtype='object')\n"
     ]
    }
   ],
   "source": [
    "# Checking the columns of the dataset\n",
    "print(\"Profiles columns:\", profiles.columns)\n",
    "print(\"Animes columns:\", animes.columns)\n",
    "print(\"Reviews columns:\", reviews.columns)"
   ]
  },
  {
   "cell_type": "code",
   "execution_count": 8,
   "metadata": {},
   "outputs": [
    {
     "name": "stdout",
     "output_type": "stream",
     "text": [
      "Merge successful!\n",
      "Merged dataset:\n",
      "     uid                    title  \\\n",
      "0  23273  Shigatsu wa Kimi no Uso   \n",
      "1  23273  Shigatsu wa Kimi no Uso   \n",
      "2  23273  Shigatsu wa Kimi no Uso   \n",
      "3  23273  Shigatsu wa Kimi no Uso   \n",
      "4  23273  Shigatsu wa Kimi no Uso   \n",
      "\n",
      "                                            synopsis  \\\n",
      "0  Music accompanies the path of the human metron...   \n",
      "1  Music accompanies the path of the human metron...   \n",
      "2  Music accompanies the path of the human metron...   \n",
      "3  Music accompanies the path of the human metron...   \n",
      "4  Music accompanies the path of the human metron...   \n",
      "\n",
      "                                               genre  \\\n",
      "0  ['Drama', 'Music', 'Romance', 'School', 'Shoun...   \n",
      "1  ['Drama', 'Music', 'Romance', 'School', 'Shoun...   \n",
      "2  ['Drama', 'Music', 'Romance', 'School', 'Shoun...   \n",
      "3  ['Drama', 'Music', 'Romance', 'School', 'Shoun...   \n",
      "4  ['Drama', 'Music', 'Romance', 'School', 'Shoun...   \n",
      "\n",
      "                          aired  episodes  members  popularity  ranked  \\\n",
      "0  Oct 10, 2014 to Mar 20, 2015      22.0   995473          28    24.0   \n",
      "1  Oct 10, 2014 to Mar 20, 2015      22.0   995473          28    24.0   \n",
      "2  Oct 10, 2014 to Mar 20, 2015      22.0   995473          28    24.0   \n",
      "3  Oct 10, 2014 to Mar 20, 2015      22.0   995473          28    24.0   \n",
      "4  Oct 10, 2014 to Mar 20, 2015      22.0   995473          28    24.0   \n",
      "\n",
      "   score_x  ... profile anime_uid  \\\n",
      "0     8.83  ...  itaeon      6811   \n",
      "1     8.83  ...  itaeon      6811   \n",
      "2     8.83  ...  itaeon      6811   \n",
      "3     8.83  ...  itaeon      6811   \n",
      "4     8.83  ...  itaeon      6811   \n",
      "\n",
      "                                                text  score_y  \\\n",
      "0  \\n           \\n         \\n           \\n       ...       10   \n",
      "1  \\n           \\n         \\n           \\n       ...       10   \n",
      "2  \\n           \\n         \\n           \\n       ...       10   \n",
      "3  \\n           \\n         \\n           \\n       ...       10   \n",
      "4  \\n           \\n         \\n           \\n       ...       10   \n",
      "\n",
      "                                              scores  \\\n",
      "0  {'Overall': '10', 'Story': '9', 'Animation': '...   \n",
      "1  {'Overall': '10', 'Story': '9', 'Animation': '...   \n",
      "2  {'Overall': '10', 'Story': '9', 'Animation': '...   \n",
      "3  {'Overall': '10', 'Story': '9', 'Animation': '...   \n",
      "4  {'Overall': '10', 'Story': '9', 'Animation': '...   \n",
      "\n",
      "                                         link_y  gender birthday  \\\n",
      "0  https://myanimelist.net/reviews.php?id=23273  Female    Jan 4   \n",
      "1  https://myanimelist.net/reviews.php?id=23273  Female    Jan 4   \n",
      "2  https://myanimelist.net/reviews.php?id=23273  Female    Jan 4   \n",
      "3  https://myanimelist.net/reviews.php?id=23273  Female    Jan 4   \n",
      "4  https://myanimelist.net/reviews.php?id=23273  Female    Jan 4   \n",
      "\n",
      "                             favorites_anime  \\\n",
      "0  ['12531', '11843', '11771', '457', '249']   \n",
      "1  ['12531', '11843', '11771', '457', '249']   \n",
      "2  ['12531', '11843', '11771', '457', '249']   \n",
      "3  ['12531', '11843', '11771', '457', '249']   \n",
      "4  ['12531', '11843', '11771', '457', '249']   \n",
      "\n",
      "                                     link  \n",
      "0  https://myanimelist.net/profile/itaeon  \n",
      "1  https://myanimelist.net/profile/itaeon  \n",
      "2  https://myanimelist.net/profile/itaeon  \n",
      "3  https://myanimelist.net/profile/itaeon  \n",
      "4  https://myanimelist.net/profile/itaeon  \n",
      "\n",
      "[5 rows x 22 columns]\n"
     ]
    }
   ],
   "source": [
    "# Merging datasets:\n",
    "try:\n",
    "    merged_data = pd.merge(animes, reviews, on='uid', how='inner')\n",
    "    merged_data = pd.merge(merged_data, profiles, on='profile', how='inner')\n",
    "\n",
    "    print(\"Merge successful!\")\n",
    "    print(\"Merged dataset:\")\n",
    "    print(merged_data.head())\n",
    "except KeyError as e:\n",
    "    print(\"KeyError:\", e)"
   ]
  },
  {
   "cell_type": "markdown",
   "metadata": {},
   "source": [
    "Cleaning the merged dataset\n",
    "Checking for missing values in the merged DataFrame"
   ]
  },
  {
   "cell_type": "code",
   "execution_count": 9,
   "metadata": {},
   "outputs": [
    {
     "name": "stdout",
     "output_type": "stream",
     "text": [
      "Number of rows: 31738\n",
      "Number of columns: 22\n",
      "Index(['uid', 'title', 'synopsis', 'genre', 'aired', 'episodes', 'members',\n",
      "       'popularity', 'ranked', 'score_x', 'img_url', 'link_x', 'profile',\n",
      "       'anime_uid', 'text', 'score_y', 'scores', 'link_y', 'gender',\n",
      "       'birthday', 'favorites_anime', 'link'],\n",
      "      dtype='object')\n"
     ]
    }
   ],
   "source": [
    "        \n",
    "rows, columns = merged_data.shape\n",
    "print(\"Number of rows:\", rows)\n",
    "print(\"Number of columns:\", columns)\n",
    "print(merged_data.columns)"
   ]
  },
  {
   "cell_type": "code",
   "execution_count": 10,
   "metadata": {},
   "outputs": [
    {
     "name": "stdout",
     "output_type": "stream",
     "text": [
      "uid                   0\n",
      "title                 0\n",
      "synopsis           1306\n",
      "genre                 0\n",
      "aired                 0\n",
      "episodes            821\n",
      "members               0\n",
      "popularity            0\n",
      "ranked             4789\n",
      "score_x             661\n",
      "img_url             206\n",
      "link_x                0\n",
      "profile               0\n",
      "anime_uid             0\n",
      "text                  0\n",
      "score_y               0\n",
      "scores                0\n",
      "link_y                0\n",
      "gender             5153\n",
      "birthday           8038\n",
      "favorites_anime       0\n",
      "link                  0\n",
      "dtype: int64\n"
     ]
    }
   ],
   "source": [
    "missing_values = merged_data.isnull().sum()\n",
    "print(missing_values)"
   ]
  },
  {
   "cell_type": "code",
   "execution_count": 11,
   "metadata": {},
   "outputs": [
    {
     "name": "stdout",
     "output_type": "stream",
     "text": [
      "<class 'pandas.core.frame.DataFrame'>\n",
      "RangeIndex: 31738 entries, 0 to 31737\n",
      "Data columns (total 22 columns):\n",
      " #   Column           Non-Null Count  Dtype  \n",
      "---  ------           --------------  -----  \n",
      " 0   uid              31738 non-null  int64  \n",
      " 1   title            31738 non-null  object \n",
      " 2   synopsis         30432 non-null  object \n",
      " 3   genre            31738 non-null  object \n",
      " 4   aired            31738 non-null  object \n",
      " 5   episodes         30917 non-null  float64\n",
      " 6   members          31738 non-null  int64  \n",
      " 7   popularity       31738 non-null  int64  \n",
      " 8   ranked           26949 non-null  float64\n",
      " 9   score_x          31077 non-null  float64\n",
      " 10  img_url          31532 non-null  object \n",
      " 11  link_x           31738 non-null  object \n",
      " 12  profile          31738 non-null  object \n",
      " 13  anime_uid        31738 non-null  int64  \n",
      " 14  text             31738 non-null  object \n",
      " 15  score_y          31738 non-null  int64  \n",
      " 16  scores           31738 non-null  object \n",
      " 17  link_y           31738 non-null  object \n",
      " 18  gender           26585 non-null  object \n",
      " 19  birthday         23700 non-null  object \n",
      " 20  favorites_anime  31738 non-null  object \n",
      " 21  link             31738 non-null  object \n",
      "dtypes: float64(3), int64(5), object(14)\n",
      "memory usage: 5.3+ MB\n",
      "<class 'pandas.core.frame.DataFrame'>\n",
      "RangeIndex: 31738 entries, 0 to 31737\n",
      "Data columns (total 22 columns):\n",
      " #   Column           Non-Null Count  Dtype  \n",
      "---  ------           --------------  -----  \n",
      " 0   uid              31738 non-null  int64  \n",
      " 1   title            31738 non-null  object \n",
      " 2   synopsis         30432 non-null  object \n",
      " 3   genre            31738 non-null  object \n",
      " 4   aired            31738 non-null  object \n",
      " 5   episodes         30917 non-null  float64\n",
      " 6   members          31738 non-null  int64  \n",
      " 7   popularity       31738 non-null  int64  \n",
      " 8   ranked           26949 non-null  float64\n",
      " 9   score_x          31077 non-null  float64\n",
      " 10  img_url          31532 non-null  object \n",
      " 11  link_x           31738 non-null  object \n",
      " 12  profile          31738 non-null  object \n",
      " 13  anime_uid        31738 non-null  int64  \n",
      " 14  text             31738 non-null  object \n",
      " 15  score_y          31738 non-null  int64  \n",
      " 16  scores           31738 non-null  object \n",
      " 17  link_y           31738 non-null  object \n",
      " 18  gender           26585 non-null  object \n",
      " 19  birthday         23700 non-null  object \n",
      " 20  favorites_anime  31738 non-null  object \n",
      " 21  link             31738 non-null  object \n",
      "dtypes: float64(3), int64(5), object(14)\n",
      "memory usage: 5.3+ MB\n",
      "None\n"
     ]
    }
   ],
   "source": [
    "merged_data.nunique()\n",
    "merged_data.info()\n",
    "print(merged_data.info())"
   ]
  },
  {
   "cell_type": "code",
   "execution_count": 12,
   "metadata": {},
   "outputs": [
    {
     "name": "stdout",
     "output_type": "stream",
     "text": [
      "0              NaT\n",
      "1              NaT\n",
      "2              NaT\n",
      "3              NaT\n",
      "4              NaT\n",
      "           ...    \n",
      "31733          NaT\n",
      "31734          NaT\n",
      "31735          NaT\n",
      "31736   1996-01-10\n",
      "31737   1996-01-10\n",
      "Name: birthday, Length: 31738, dtype: datetime64[ns]\n"
     ]
    }
   ],
   "source": [
    "\n",
    "# Converting 'birthday' column to datetime data type and handling errors\n",
    "merged_data['birthday'] = pd.to_datetime(merged_data['birthday'], format='%b %d, %Y', errors='coerce')\n",
    "print(merged_data['birthday'])\n",
    "# By setting errors='coerce', the function will replace the problematic date strings with NaT values.\n",
    "\n"
   ]
  },
  {
   "cell_type": "code",
   "execution_count": 13,
   "metadata": {},
   "outputs": [
    {
     "name": "stdout",
     "output_type": "stream",
     "text": [
      "         uid                                              title  \\\n",
      "0      23273                            Shigatsu wa Kimi no Uso   \n",
      "1      23273                            Shigatsu wa Kimi no Uso   \n",
      "2      23273                            Shigatsu wa Kimi no Uso   \n",
      "3      23273                            Shigatsu wa Kimi no Uso   \n",
      "4      23273                            Shigatsu wa Kimi no Uso   \n",
      "...      ...                                                ...   \n",
      "31733  35828                                   Miira no Kaikata   \n",
      "31734  35828                                   Miira no Kaikata   \n",
      "31735  35828                                   Miira no Kaikata   \n",
      "31736  16934  Chuunibyou demo Koi ga Shitai!: Kirameki no......   \n",
      "31737  16934  Chuunibyou demo Koi ga Shitai!: Kirameki no......   \n",
      "\n",
      "                                                synopsis  \\\n",
      "0      Music accompanies the path of the human metron...   \n",
      "1      Music accompanies the path of the human metron...   \n",
      "2      Music accompanies the path of the human metron...   \n",
      "3      Music accompanies the path of the human metron...   \n",
      "4      Music accompanies the path of the human metron...   \n",
      "...                                                  ...   \n",
      "31733  High school student Sora Kashiwagi is accustom...   \n",
      "31734  High school student Sora Kashiwagi is accustom...   \n",
      "31735  High school student Sora Kashiwagi is accustom...   \n",
      "31736  Although Yuuta Togashi and Rikka Takanashi hav...   \n",
      "31737  Although Yuuta Togashi and Rikka Takanashi hav...   \n",
      "\n",
      "                                                   genre  \\\n",
      "0      ['Drama', 'Music', 'Romance', 'School', 'Shoun...   \n",
      "1      ['Drama', 'Music', 'Romance', 'School', 'Shoun...   \n",
      "2      ['Drama', 'Music', 'Romance', 'School', 'Shoun...   \n",
      "3      ['Drama', 'Music', 'Romance', 'School', 'Shoun...   \n",
      "4      ['Drama', 'Music', 'Romance', 'School', 'Shoun...   \n",
      "...                                                  ...   \n",
      "31733        ['Slice of Life', 'Comedy', 'Supernatural']   \n",
      "31734        ['Slice of Life', 'Comedy', 'Supernatural']   \n",
      "31735        ['Slice of Life', 'Comedy', 'Supernatural']   \n",
      "31736  ['Comedy', 'Drama', 'Romance', 'School', 'Slic...   \n",
      "31737  ['Comedy', 'Drama', 'Romance', 'School', 'Slic...   \n",
      "\n",
      "                              aired  episodes  members  popularity  ranked  \\\n",
      "0      Oct 10, 2014 to Mar 20, 2015      22.0   995473          28    24.0   \n",
      "1      Oct 10, 2014 to Mar 20, 2015      22.0   995473          28    24.0   \n",
      "2      Oct 10, 2014 to Mar 20, 2015      22.0   995473          28    24.0   \n",
      "3      Oct 10, 2014 to Mar 20, 2015      22.0   995473          28    24.0   \n",
      "4      Oct 10, 2014 to Mar 20, 2015      22.0   995473          28    24.0   \n",
      "...                             ...       ...      ...         ...     ...   \n",
      "31733  Jan 12, 2018 to Mar 30, 2018      12.0    61459        1648  1727.0   \n",
      "31734  Jan 12, 2018 to Mar 30, 2018      12.0    61459        1648  1727.0   \n",
      "31735  Jan 12, 2018 to Mar 30, 2018      12.0    61459        1648  1727.0   \n",
      "31736                  Jun 19, 2013       1.0   128400         883  1533.0   \n",
      "31737                  Jun 19, 2013       1.0   128400         883  1533.0   \n",
      "\n",
      "       score_x  ... anime_uid  \\\n",
      "0         8.83  ...      6811   \n",
      "1         8.83  ...      6811   \n",
      "2         8.83  ...      6811   \n",
      "3         8.83  ...      6811   \n",
      "4         8.83  ...      6811   \n",
      "...        ...  ...       ...   \n",
      "31733     7.50  ...      4181   \n",
      "31734     7.50  ...      4181   \n",
      "31735     7.50  ...      4181   \n",
      "31736     7.56  ...        17   \n",
      "31737     7.56  ...        17   \n",
      "\n",
      "                                                    text score_y  \\\n",
      "0      \\n           \\n         \\n           \\n       ...      10   \n",
      "1      \\n           \\n         \\n           \\n       ...      10   \n",
      "2      \\n           \\n         \\n           \\n       ...      10   \n",
      "3      \\n           \\n         \\n           \\n       ...      10   \n",
      "4      \\n           \\n         \\n           \\n       ...      10   \n",
      "...                                                  ...     ...   \n",
      "31733  \\n           \\n         \\n           \\n       ...      10   \n",
      "31734  \\n           \\n         \\n           \\n       ...      10   \n",
      "31735  \\n           \\n         \\n           \\n       ...      10   \n",
      "31736  \\n           \\n         \\n           \\n       ...      10   \n",
      "31737  \\n           \\n         \\n           \\n       ...      10   \n",
      "\n",
      "                                                  scores  \\\n",
      "0      {'Overall': '10', 'Story': '9', 'Animation': '...   \n",
      "1      {'Overall': '10', 'Story': '9', 'Animation': '...   \n",
      "2      {'Overall': '10', 'Story': '9', 'Animation': '...   \n",
      "3      {'Overall': '10', 'Story': '9', 'Animation': '...   \n",
      "4      {'Overall': '10', 'Story': '9', 'Animation': '...   \n",
      "...                                                  ...   \n",
      "31733  {'Overall': '10', 'Story': '10', 'Animation': ...   \n",
      "31734  {'Overall': '10', 'Story': '10', 'Animation': ...   \n",
      "31735  {'Overall': '10', 'Story': '10', 'Animation': ...   \n",
      "31736  {'Overall': '10', 'Story': '9', 'Animation': '...   \n",
      "31737  {'Overall': '10', 'Story': '9', 'Animation': '...   \n",
      "\n",
      "                                             link_y  gender   birthday  \\\n",
      "0      https://myanimelist.net/reviews.php?id=23273  Female        NaT   \n",
      "1      https://myanimelist.net/reviews.php?id=23273  Female        NaT   \n",
      "2      https://myanimelist.net/reviews.php?id=23273  Female        NaT   \n",
      "3      https://myanimelist.net/reviews.php?id=23273  Female        NaT   \n",
      "4      https://myanimelist.net/reviews.php?id=23273  Female        NaT   \n",
      "...                                             ...     ...        ...   \n",
      "31733  https://myanimelist.net/reviews.php?id=35828    Male        NaT   \n",
      "31734  https://myanimelist.net/reviews.php?id=35828    Male        NaT   \n",
      "31735  https://myanimelist.net/reviews.php?id=35828    Male        NaT   \n",
      "31736  https://myanimelist.net/reviews.php?id=16934  Female 1996-01-10   \n",
      "31737  https://myanimelist.net/reviews.php?id=16934  Female 1996-01-10   \n",
      "\n",
      "                                 favorites_anime  \\\n",
      "0      ['12531', '11843', '11771', '457', '249']   \n",
      "1      ['12531', '11843', '11771', '457', '249']   \n",
      "2      ['12531', '11843', '11771', '457', '249']   \n",
      "3      ['12531', '11843', '11771', '457', '249']   \n",
      "4      ['12531', '11843', '11771', '457', '249']   \n",
      "...                                          ...   \n",
      "31733    ['811', '1735', '2167', '9513', '9919']   \n",
      "31734    ['811', '1735', '2167', '9513', '9919']   \n",
      "31735    ['811', '1735', '2167', '9513', '9919']   \n",
      "31736       ['957', '5835', '4898', '136', '17']   \n",
      "31737       ['957', '5835', '4898', '136', '17']   \n",
      "\n",
      "                                              link   age  \n",
      "0           https://myanimelist.net/profile/itaeon   NaN  \n",
      "1           https://myanimelist.net/profile/itaeon   NaN  \n",
      "2           https://myanimelist.net/profile/itaeon   NaN  \n",
      "3           https://myanimelist.net/profile/itaeon   NaN  \n",
      "4           https://myanimelist.net/profile/itaeon   NaN  \n",
      "...                                            ...   ...  \n",
      "31733  https://myanimelist.net/profile/Ryuu_Hatake   NaN  \n",
      "31734  https://myanimelist.net/profile/Ryuu_Hatake   NaN  \n",
      "31735  https://myanimelist.net/profile/Ryuu_Hatake   NaN  \n",
      "31736   https://myanimelist.net/profile/FallenHope  28.0  \n",
      "31737   https://myanimelist.net/profile/FallenHope  28.0  \n",
      "\n",
      "[31738 rows x 23 columns]\n"
     ]
    }
   ],
   "source": [
    "# Calculating the age based on current date\n",
    "current_date = datetime.now()\n",
    "merged_data['age'] = (current_date - merged_data['birthday']) // pd.Timedelta(days=365)\n",
    "print(merged_data)"
   ]
  },
  {
   "cell_type": "code",
   "execution_count": 14,
   "metadata": {},
   "outputs": [],
   "source": [
    "# Remove rows where age couldn't be calculated\n",
    "merged_data.dropna(subset=['age'], inplace=True)  \n"
   ]
  },
  {
   "cell_type": "code",
   "execution_count": 15,
   "metadata": {},
   "outputs": [
    {
     "name": "stdout",
     "output_type": "stream",
     "text": [
      "Mean Age: 34.95822316234796\n"
     ]
    }
   ],
   "source": [
    "#Calculating the mean age\n",
    "mean_age = merged_data['age'].mean()\n",
    "print(\"Mean Age:\", mean_age)"
   ]
  },
  {
   "cell_type": "code",
   "execution_count": 16,
   "metadata": {},
   "outputs": [
    {
     "name": "stdout",
     "output_type": "stream",
     "text": [
      "         uid                                              title  \\\n",
      "16     34599                                      Made in Abyss   \n",
      "17     34599                                      Made in Abyss   \n",
      "18     34599                                      Made in Abyss   \n",
      "19     34599                                      Made in Abyss   \n",
      "20     32762                                            Circles   \n",
      "...      ...                                                ...   \n",
      "31727  24625                          Gundam Build Fighters Try   \n",
      "31728  24625                          Gundam Build Fighters Try   \n",
      "31731  10075                                        Naruto x UT   \n",
      "31736  16934  Chuunibyou demo Koi ga Shitai!: Kirameki no......   \n",
      "31737  16934  Chuunibyou demo Koi ga Shitai!: Kirameki no......   \n",
      "\n",
      "                                                synopsis  \\\n",
      "16     The Abyss—a gaping chasm stretching down into ...   \n",
      "17     The Abyss—a gaping chasm stretching down into ...   \n",
      "18     The Abyss—a gaping chasm stretching down into ...   \n",
      "19     The Abyss—a gaping chasm stretching down into ...   \n",
      "20           A music video for DOIMOI's song \"Circles.\"    \n",
      "...                                                  ...   \n",
      "31727  The story of Gundam Build Fighters Try is set ...   \n",
      "31728  The story of Gundam Build Fighters Try is set ...   \n",
      "31731  All-new animation offered throughout UNIQLO cl...   \n",
      "31736  Although Yuuta Togashi and Rikka Takanashi hav...   \n",
      "31737  Although Yuuta Togashi and Rikka Takanashi hav...   \n",
      "\n",
      "                                                   genre  \\\n",
      "16     ['Sci-Fi', 'Adventure', 'Mystery', 'Drama', 'F...   \n",
      "17     ['Sci-Fi', 'Adventure', 'Mystery', 'Drama', 'F...   \n",
      "18     ['Sci-Fi', 'Adventure', 'Mystery', 'Drama', 'F...   \n",
      "19     ['Sci-Fi', 'Adventure', 'Mystery', 'Drama', 'F...   \n",
      "20                                             ['Music']   \n",
      "...                                                  ...   \n",
      "31727                      ['Action', 'Sci-Fi', 'Mecha']   \n",
      "31728                      ['Action', 'Sci-Fi', 'Mecha']   \n",
      "31731  ['Action', 'Comedy', 'Super Power', 'Martial A...   \n",
      "31736  ['Comedy', 'Drama', 'Romance', 'School', 'Slic...   \n",
      "31737  ['Comedy', 'Drama', 'Romance', 'School', 'Slic...   \n",
      "\n",
      "                             aired  episodes  members  popularity   ranked  \\\n",
      "16     Jul 7, 2017 to Sep 29, 2017      13.0   581663          98     23.0   \n",
      "17     Jul 7, 2017 to Sep 29, 2017      13.0   581663          98     23.0   \n",
      "18     Jul 7, 2017 to Sep 29, 2017      13.0   581663          98     23.0   \n",
      "19     Jul 7, 2017 to Sep 29, 2017      13.0   581663          98     23.0   \n",
      "20                    Jul 10, 2012       1.0      181       13735  10528.0   \n",
      "...                            ...       ...      ...         ...      ...   \n",
      "31727   Oct 8, 2014 to Apr 1, 2015      25.0    29241        2613   2277.0   \n",
      "31728   Oct 8, 2014 to Apr 1, 2015      25.0    29241        2613   2277.0   \n",
      "31731                  Jan 1, 2011       1.0    34155        2382   1728.0   \n",
      "31736                 Jun 19, 2013       1.0   128400         883   1533.0   \n",
      "31737                 Jun 19, 2013       1.0   128400         883   1533.0   \n",
      "\n",
      "       score_x  ... anime_uid  \\\n",
      "16        8.83  ...      4744   \n",
      "17        8.83  ...      4744   \n",
      "18        8.83  ...      4744   \n",
      "19        8.83  ...      4744   \n",
      "20        5.23  ...      1221   \n",
      "...        ...  ...       ...   \n",
      "31727     7.36  ...       463   \n",
      "31728     7.36  ...       463   \n",
      "31731     7.50  ...      3467   \n",
      "31736     7.56  ...        17   \n",
      "31737     7.56  ...        17   \n",
      "\n",
      "                                                    text score_y  \\\n",
      "16     \\n           \\n         \\n           \\n       ...      10   \n",
      "17     \\n           \\n         \\n           \\n       ...      10   \n",
      "18     \\n           \\n         \\n           \\n       ...      10   \n",
      "19     \\n           \\n         \\n           \\n       ...      10   \n",
      "20     \\n           \\n         \\n           \\n       ...       7   \n",
      "...                                                  ...     ...   \n",
      "31727  \\n           \\n         \\n           \\n       ...       2   \n",
      "31728  \\n           \\n         \\n           \\n       ...       2   \n",
      "31731  \\n           \\n         \\n           \\n       ...       8   \n",
      "31736  \\n           \\n         \\n           \\n       ...      10   \n",
      "31737  \\n           \\n         \\n           \\n       ...      10   \n",
      "\n",
      "                                                  scores  \\\n",
      "16     {'Overall': '10', 'Story': '10', 'Animation': ...   \n",
      "17     {'Overall': '10', 'Story': '10', 'Animation': ...   \n",
      "18     {'Overall': '10', 'Story': '10', 'Animation': ...   \n",
      "19     {'Overall': '10', 'Story': '10', 'Animation': ...   \n",
      "20     {'Overall': '7', 'Story': '7', 'Animation': '3...   \n",
      "...                                                  ...   \n",
      "31727  {'Overall': '2', 'Story': '1', 'Animation': '6...   \n",
      "31728  {'Overall': '2', 'Story': '1', 'Animation': '6...   \n",
      "31731  {'Overall': '8', 'Story': '7', 'Animation': '8...   \n",
      "31736  {'Overall': '10', 'Story': '9', 'Animation': '...   \n",
      "31737  {'Overall': '10', 'Story': '9', 'Animation': '...   \n",
      "\n",
      "                                             link_y  gender   birthday  \\\n",
      "16     https://myanimelist.net/reviews.php?id=34599  Female 1997-01-28   \n",
      "17     https://myanimelist.net/reviews.php?id=34599  Female 1997-01-28   \n",
      "18     https://myanimelist.net/reviews.php?id=34599  Female 1997-01-28   \n",
      "19     https://myanimelist.net/reviews.php?id=34599  Female 1997-01-28   \n",
      "20     https://myanimelist.net/reviews.php?id=32762  Female 1997-01-28   \n",
      "...                                             ...     ...        ...   \n",
      "31727  https://myanimelist.net/reviews.php?id=24625  Female 1990-01-08   \n",
      "31728  https://myanimelist.net/reviews.php?id=24625  Female 1990-01-08   \n",
      "31731  https://myanimelist.net/reviews.php?id=10075    Male 1992-02-02   \n",
      "31736  https://myanimelist.net/reviews.php?id=16934  Female 1996-01-10   \n",
      "31737  https://myanimelist.net/reviews.php?id=16934  Female 1996-01-10   \n",
      "\n",
      "                                 favorites_anime  \\\n",
      "16              ['4224', '355', '6', '1', '934']   \n",
      "17              ['4224', '355', '6', '1', '934']   \n",
      "18              ['4224', '355', '6', '1', '934']   \n",
      "19              ['4224', '355', '6', '1', '934']   \n",
      "20              ['4224', '355', '6', '1', '934']   \n",
      "...                                          ...   \n",
      "31727  ['918', '2251', '2246', '12189', '31240']   \n",
      "31728  ['918', '2251', '2246', '12189', '31240']   \n",
      "31731               ['857', '3731', '53', '269']   \n",
      "31736       ['957', '5835', '4898', '136', '17']   \n",
      "31737       ['957', '5835', '4898', '136', '17']   \n",
      "\n",
      "                                               link   age  \n",
      "16     https://myanimelist.net/profile/Drumming1997  27.0  \n",
      "17     https://myanimelist.net/profile/Drumming1997  27.0  \n",
      "18     https://myanimelist.net/profile/Drumming1997  27.0  \n",
      "19     https://myanimelist.net/profile/Drumming1997  27.0  \n",
      "20     https://myanimelist.net/profile/Drumming1997  27.0  \n",
      "...                                             ...   ...  \n",
      "31727       https://myanimelist.net/profile/firerez  34.0  \n",
      "31728       https://myanimelist.net/profile/firerez  34.0  \n",
      "31731        https://myanimelist.net/profile/4ngs4u  32.0  \n",
      "31736    https://myanimelist.net/profile/FallenHope  28.0  \n",
      "31737    https://myanimelist.net/profile/FallenHope  28.0  \n",
      "\n",
      "[17019 rows x 23 columns]\n"
     ]
    }
   ],
   "source": [
    "# Filling the missing values in the 'age' column with the mean age\n",
    "merged_data['age'].fillna(mean_age, inplace=True)\n",
    "print(merged_data)"
   ]
  },
  {
   "cell_type": "code",
   "execution_count": 17,
   "metadata": {},
   "outputs": [],
   "source": [
    "# Checking for and handling any outliers or unrealistic age values if necessary\n",
    "# Example: Assuming ages above 100 or below 10 are unrealistic for your dataset\n",
    "merged_data = merged_data[(merged_data['age'] <= 100) & (merged_data['age'] >= 10)]"
   ]
  },
  {
   "cell_type": "code",
   "execution_count": 18,
   "metadata": {},
   "outputs": [
    {
     "name": "stdout",
     "output_type": "stream",
     "text": [
      "                                                genre  gender   age\n",
      "16  ['Sci-Fi', 'Adventure', 'Mystery', 'Drama', 'F...  Female  27.0\n",
      "17  ['Sci-Fi', 'Adventure', 'Mystery', 'Drama', 'F...  Female  27.0\n",
      "18  ['Sci-Fi', 'Adventure', 'Mystery', 'Drama', 'F...  Female  27.0\n",
      "19  ['Sci-Fi', 'Adventure', 'Mystery', 'Drama', 'F...  Female  27.0\n",
      "20                                          ['Music']  Female  27.0\n"
     ]
    }
   ],
   "source": [
    "# Droping unnecessary columns from merged_data\n",
    "columns_to_drop = ['favorites_anime', 'link',  'score_y', 'score_x',\n",
    "                   'title', 'synopsis', 'aired', 'episodes', 'members',  \n",
    "                   'popularity', 'ranked', 'score', 'img_url', \n",
    "                   'text', 'score', 'scores',  'link_y', 'link_x', \n",
    "                   'uid', 'anime_uid', 'profile' , 'birthday'\n",
    "                  ]\n",
    "\n",
    "merged_data.drop(columns=columns_to_drop, inplace=True, errors='ignore') \n",
    "print(merged_data.head())"
   ]
  },
  {
   "cell_type": "code",
   "execution_count": 19,
   "metadata": {},
   "outputs": [
    {
     "name": "stdout",
     "output_type": "stream",
     "text": [
      "Male\n"
     ]
    }
   ],
   "source": [
    "# Calculating the mode of gender\n",
    "mode_gender = merged_data['gender'].mode()[0]\n",
    "print(mode_gender)"
   ]
  },
  {
   "cell_type": "code",
   "execution_count": 20,
   "metadata": {},
   "outputs": [
    {
     "data": {
      "text/html": [
       "<div>\n",
       "<style scoped>\n",
       "    .dataframe tbody tr th:only-of-type {\n",
       "        vertical-align: middle;\n",
       "    }\n",
       "\n",
       "    .dataframe tbody tr th {\n",
       "        vertical-align: top;\n",
       "    }\n",
       "\n",
       "    .dataframe thead th {\n",
       "        text-align: right;\n",
       "    }\n",
       "</style>\n",
       "<table border=\"1\" class=\"dataframe\">\n",
       "  <thead>\n",
       "    <tr style=\"text-align: right;\">\n",
       "      <th></th>\n",
       "      <th>age</th>\n",
       "    </tr>\n",
       "  </thead>\n",
       "  <tbody>\n",
       "    <tr>\n",
       "      <th>count</th>\n",
       "      <td>17006.000000</td>\n",
       "    </tr>\n",
       "    <tr>\n",
       "      <th>mean</th>\n",
       "      <td>34.978655</td>\n",
       "    </tr>\n",
       "    <tr>\n",
       "      <th>std</th>\n",
       "      <td>6.974711</td>\n",
       "    </tr>\n",
       "    <tr>\n",
       "      <th>min</th>\n",
       "      <td>11.000000</td>\n",
       "    </tr>\n",
       "    <tr>\n",
       "      <th>25%</th>\n",
       "      <td>31.000000</td>\n",
       "    </tr>\n",
       "    <tr>\n",
       "      <th>50%</th>\n",
       "      <td>34.000000</td>\n",
       "    </tr>\n",
       "    <tr>\n",
       "      <th>75%</th>\n",
       "      <td>37.000000</td>\n",
       "    </tr>\n",
       "    <tr>\n",
       "      <th>max</th>\n",
       "      <td>94.000000</td>\n",
       "    </tr>\n",
       "  </tbody>\n",
       "</table>\n",
       "</div>"
      ],
      "text/plain": [
       "                age\n",
       "count  17006.000000\n",
       "mean      34.978655\n",
       "std        6.974711\n",
       "min       11.000000\n",
       "25%       31.000000\n",
       "50%       34.000000\n",
       "75%       37.000000\n",
       "max       94.000000"
      ]
     },
     "execution_count": 20,
     "metadata": {},
     "output_type": "execute_result"
    }
   ],
   "source": [
    "\n",
    "# Filling missing values in the 'gender' columnn with mode gender\n",
    "merged_data['gender'].fillna(mode_gender, inplace=True)\n",
    "merged_data.describe()"
   ]
  },
  {
   "cell_type": "code",
   "execution_count": 21,
   "metadata": {},
   "outputs": [
    {
     "name": "stdout",
     "output_type": "stream",
     "text": [
      "                                                   genre  gender   age\n",
      "16     ['Sci-Fi', 'Adventure', 'Mystery', 'Drama', 'F...  Female  27.0\n",
      "17     ['Sci-Fi', 'Adventure', 'Mystery', 'Drama', 'F...  Female  27.0\n",
      "18     ['Sci-Fi', 'Adventure', 'Mystery', 'Drama', 'F...  Female  27.0\n",
      "19     ['Sci-Fi', 'Adventure', 'Mystery', 'Drama', 'F...  Female  27.0\n",
      "20                                             ['Music']  Female  27.0\n",
      "...                                                  ...     ...   ...\n",
      "31727                      ['Action', 'Sci-Fi', 'Mecha']  Female  34.0\n",
      "31728                      ['Action', 'Sci-Fi', 'Mecha']  Female  34.0\n",
      "31731  ['Action', 'Comedy', 'Super Power', 'Martial A...    Male  32.0\n",
      "31736  ['Comedy', 'Drama', 'Romance', 'School', 'Slic...  Female  28.0\n",
      "31737  ['Comedy', 'Drama', 'Romance', 'School', 'Slic...  Female  28.0\n",
      "\n",
      "[17006 rows x 3 columns]\n"
     ]
    }
   ],
   "source": [
    "print(merged_data)"
   ]
  },
  {
   "cell_type": "code",
   "execution_count": 22,
   "metadata": {},
   "outputs": [
    {
     "name": "stdout",
     "output_type": "stream",
     "text": [
      "Index(['genre', 'gender', 'age'], dtype='object')\n"
     ]
    }
   ],
   "source": [
    "# Replace inconsistent/ duplicate genre values\n",
    "merged_data['genre'] = merged_data['genre'].str.replace(\"'\", \"\").str.strip()\n",
    "print(merged_data.columns)"
   ]
  },
  {
   "cell_type": "code",
   "execution_count": 23,
   "metadata": {},
   "outputs": [
    {
     "name": "stdout",
     "output_type": "stream",
     "text": [
      "                                           genre  gender   age\n",
      "16  [Sci-Fi, Adventure, Mystery, Drama, Fantasy]  Female  27.0\n",
      "17  [Sci-Fi, Adventure, Mystery, Drama, Fantasy]  Female  27.0\n",
      "18  [Sci-Fi, Adventure, Mystery, Drama, Fantasy]  Female  27.0\n",
      "19  [Sci-Fi, Adventure, Mystery, Drama, Fantasy]  Female  27.0\n",
      "20                                       [Music]  Female  27.0\n"
     ]
    }
   ],
   "source": [
    "# Droping unnecessary columns from merged_data\n",
    "columns_to_drop = ['favorites_anime', 'link',  'score_y', 'score_x',\n",
    "                   'title', 'synopsis', 'aired', 'episodes', 'members',  \n",
    "                   'popularity', 'ranked', 'score', 'img_url', \n",
    "                   'text', 'score', 'scores',  'link_y', 'link_x', \n",
    "                   'uid', 'anime_uid', 'profile' , 'birthday'\n",
    "                  ]\n",
    "\n",
    "merged_data.drop(columns=columns_to_drop, inplace=True, errors='ignore') \n",
    "print(merged_data.head())"
   ]
  },
  {
   "cell_type": "code",
   "execution_count": 24,
   "metadata": {},
   "outputs": [],
   "source": [
    "# Spliting genres into individual columns\n",
    "# Assuming the 'genre' column in `merged_data` contains genres separated by commas\n",
    "genre_dummies = merged_data['genre'].str.get_dummies(sep=',')\n",
    "merged_df = pd.concat([merged_data, genre_dummies], axis=1)\n"
   ]
  },
  {
   "cell_type": "code",
   "execution_count": 25,
   "metadata": {},
   "outputs": [],
   "source": [
    "# Converting column names to lowercase\n",
    "genre_dummies.columns = genre_dummies.columns.str.lower()"
   ]
  },
  {
   "cell_type": "code",
   "execution_count": 26,
   "metadata": {},
   "outputs": [],
   "source": [
    "\n",
    "# Cleaning whitespaces in genres\n",
    "genre_dummies.columns = genre_dummies.columns.str.strip()\n",
    "\n",
    "# Removing brackets and single quotes from column names\n",
    "genre_dummies.columns = genre_dummies.columns.str.strip(\"[]'\")\n"
   ]
  },
  {
   "cell_type": "code",
   "execution_count": 27,
   "metadata": {},
   "outputs": [],
   "source": [
    "# Removing duplicate columns\n",
    "genre_dummies = genre_dummies.loc[:, ~genre_dummies.columns.duplicated()]"
   ]
  },
  {
   "cell_type": "code",
   "execution_count": 28,
   "metadata": {},
   "outputs": [
    {
     "name": "stdout",
     "output_type": "stream",
     "text": [
      "Index(['adventure', 'cars', 'comedy', 'dementia', 'demons', 'drama', 'ecchi',\n",
      "       'fantasy', 'game', 'harem', 'hentai', 'historical', 'horror', 'josei',\n",
      "       'kids', 'magic', 'martial arts', 'mecha', 'military', 'music',\n",
      "       'mystery', 'parody', 'police', 'psychological', 'romance', 'samurai',\n",
      "       'school', 'sci-fi', 'seinen', 'shoujo', 'shoujo ai', 'shounen',\n",
      "       'shounen ai', 'slice of life', 'space', 'sports', 'super power',\n",
      "       'supernatural', 'thriller', 'vampire', 'yaoi', 'yuri', 'action', ''],\n",
      "      dtype='object')\n"
     ]
    }
   ],
   "source": [
    "#Checking the unique genre column names\n",
    "unique_genres = genre_dummies.columns.unique()\n",
    "print(unique_genres)"
   ]
  },
  {
   "cell_type": "code",
   "execution_count": 29,
   "metadata": {},
   "outputs": [
    {
     "name": "stdout",
     "output_type": "stream",
     "text": [
      "          action  adventure  cars  comedy  dementia  demons  drama  ecchi  \\\n",
      "16     0       0          1     0       0         0       0      1      0   \n",
      "17     0       0          1     0       0         0       0      1      0   \n",
      "18     0       0          1     0       0         0       0      1      0   \n",
      "19     0       0          1     0       0         0       0      1      0   \n",
      "20     0       0          0     0       0         0       0      0      0   \n",
      "...   ..     ...        ...   ...     ...       ...     ...    ...    ...   \n",
      "31727  0       1          0     0       0         0       0      0      0   \n",
      "31728  0       1          0     0       0         0       0      0      0   \n",
      "31731  0       1          0     0       1         0       0      0      0   \n",
      "31736  0       0          0     0       0         0       0      1      0   \n",
      "31737  0       0          0     0       0         0       0      1      0   \n",
      "\n",
      "       fantasy  ...  shounen ai  slice of life  space  sports  super power  \\\n",
      "16           0  ...           0              0      0       0            0   \n",
      "17           0  ...           0              0      0       0            0   \n",
      "18           0  ...           0              0      0       0            0   \n",
      "19           0  ...           0              0      0       0            0   \n",
      "20           0  ...           0              0      0       0            0   \n",
      "...        ...  ...         ...            ...    ...     ...          ...   \n",
      "31727        0  ...           0              0      0       0            0   \n",
      "31728        0  ...           0              0      0       0            0   \n",
      "31731        0  ...           0              0      0       0            1   \n",
      "31736        0  ...           0              0      0       0            0   \n",
      "31737        0  ...           0              0      0       0            0   \n",
      "\n",
      "       supernatural  thriller  vampire  yaoi  yuri  \n",
      "16                0         0        0     0     0  \n",
      "17                0         0        0     0     0  \n",
      "18                0         0        0     0     0  \n",
      "19                0         0        0     0     0  \n",
      "20                0         0        0     0     0  \n",
      "...             ...       ...      ...   ...   ...  \n",
      "31727             0         0        0     0     0  \n",
      "31728             0         0        0     0     0  \n",
      "31731             0         0        0     0     0  \n",
      "31736             0         0        0     0     0  \n",
      "31737             0         0        0     0     0  \n",
      "\n",
      "[17006 rows x 44 columns]\n"
     ]
    }
   ],
   "source": [
    "\n",
    "# Summing columns with duplicate names\n",
    "genre_dummies = genre_dummies.groupby(level=0, axis=1).sum()\n",
    "print(genre_dummies)"
   ]
  },
  {
   "cell_type": "code",
   "execution_count": 30,
   "metadata": {},
   "outputs": [],
   "source": [
    "# Sorting columns alphabetically\n",
    "genre_dummies = genre_dummies.reindex(sorted(genre_dummies.columns), axis=1)\n",
    "\n"
   ]
  },
  {
   "cell_type": "code",
   "execution_count": 31,
   "metadata": {},
   "outputs": [],
   "source": [
    "\n",
    "# Removing unwanted characters from the column names\n",
    "genre_dummies.columns = genre_dummies.columns.str.replace('[\\[\\]]', '', regex=True)\n",
    "\n",
    "# Fixing any potential duplicates due to this cleanup (e.g., \"adventure \" and \"adventure\")\n",
    "genre_dummies = genre_dummies.groupby(genre_dummies.columns, axis=1).sum()\n"
   ]
  },
  {
   "cell_type": "code",
   "execution_count": 32,
   "metadata": {},
   "outputs": [],
   "source": [
    "# Droping any unnamed or empty columns if they exist\n",
    "genre_dummies= genre_dummies.loc[:, ~genre_dummies.columns.str.contains('^Unnamed')]\n",
    "# Removing columns with empty names\n",
    "genre_dummies = genre_dummies.loc[:, ~genre_dummies.columns.str.match('^$')]  \n"
   ]
  },
  {
   "cell_type": "code",
   "execution_count": 33,
   "metadata": {},
   "outputs": [
    {
     "name": "stdout",
     "output_type": "stream",
     "text": [
      "       action  adventure  cars  comedy  dementia  demons  drama  ecchi  \\\n",
      "16          0          1     0       0         0       0      1      0   \n",
      "17          0          1     0       0         0       0      1      0   \n",
      "18          0          1     0       0         0       0      1      0   \n",
      "19          0          1     0       0         0       0      1      0   \n",
      "20          0          0     0       0         0       0      0      0   \n",
      "...       ...        ...   ...     ...       ...     ...    ...    ...   \n",
      "31727       1          0     0       0         0       0      0      0   \n",
      "31728       1          0     0       0         0       0      0      0   \n",
      "31731       1          0     0       1         0       0      0      0   \n",
      "31736       0          0     0       0         0       0      1      0   \n",
      "31737       0          0     0       0         0       0      1      0   \n",
      "\n",
      "       fantasy  game  ...  shounen ai  slice of life  space  sports  \\\n",
      "16           0     0  ...           0              0      0       0   \n",
      "17           0     0  ...           0              0      0       0   \n",
      "18           0     0  ...           0              0      0       0   \n",
      "19           0     0  ...           0              0      0       0   \n",
      "20           0     0  ...           0              0      0       0   \n",
      "...        ...   ...  ...         ...            ...    ...     ...   \n",
      "31727        0     0  ...           0              0      0       0   \n",
      "31728        0     0  ...           0              0      0       0   \n",
      "31731        0     0  ...           0              0      0       0   \n",
      "31736        0     0  ...           0              0      0       0   \n",
      "31737        0     0  ...           0              0      0       0   \n",
      "\n",
      "       super power  supernatural  thriller  vampire  yaoi  yuri  \n",
      "16               0             0         0        0     0     0  \n",
      "17               0             0         0        0     0     0  \n",
      "18               0             0         0        0     0     0  \n",
      "19               0             0         0        0     0     0  \n",
      "20               0             0         0        0     0     0  \n",
      "...            ...           ...       ...      ...   ...   ...  \n",
      "31727            0             0         0        0     0     0  \n",
      "31728            0             0         0        0     0     0  \n",
      "31731            1             0         0        0     0     0  \n",
      "31736            0             0         0        0     0     0  \n",
      "31737            0             0         0        0     0     0  \n",
      "\n",
      "[17006 rows x 43 columns]\n",
      "Index(['action', 'adventure', 'cars', 'comedy', 'dementia', 'demons', 'drama',\n",
      "       'ecchi', 'fantasy', 'game', 'harem', 'hentai', 'historical', 'horror',\n",
      "       'josei', 'kids', 'magic', 'martial arts', 'mecha', 'military', 'music',\n",
      "       'mystery', 'parody', 'police', 'psychological', 'romance', 'samurai',\n",
      "       'school', 'sci-fi', 'seinen', 'shoujo', 'shoujo ai', 'shounen',\n",
      "       'shounen ai', 'slice of life', 'space', 'sports', 'super power',\n",
      "       'supernatural', 'thriller', 'vampire', 'yaoi', 'yuri'],\n",
      "      dtype='object')\n"
     ]
    }
   ],
   "source": [
    "\n",
    "# Displaying the cleaned genre_dummies DataFrame\n",
    "print(genre_dummies)\n",
    "print(genre_dummies.columns)"
   ]
  },
  {
   "cell_type": "code",
   "execution_count": 34,
   "metadata": {},
   "outputs": [
    {
     "name": "stdout",
     "output_type": "stream",
     "text": [
      "16       27.0\n",
      "17       27.0\n",
      "18       27.0\n",
      "19       27.0\n",
      "20       27.0\n",
      "         ... \n",
      "31727    34.0\n",
      "31728    34.0\n",
      "31731    32.0\n",
      "31736    28.0\n",
      "31737    28.0\n",
      "Name: age, Length: 17006, dtype: float64\n"
     ]
    }
   ],
   "source": [
    "# Extracting age column from merged_data\n",
    "age_column = merged_data['age']\n",
    "print(age_column)"
   ]
  },
  {
   "cell_type": "code",
   "execution_count": 35,
   "metadata": {},
   "outputs": [
    {
     "name": "stdout",
     "output_type": "stream",
     "text": [
      "        age  action  adventure  cars  comedy  dementia  demons  drama  ecchi  \\\n",
      "16     27.0       0          1     0       0         0       0      1      0   \n",
      "17     27.0       0          1     0       0         0       0      1      0   \n",
      "18     27.0       0          1     0       0         0       0      1      0   \n",
      "19     27.0       0          1     0       0         0       0      1      0   \n",
      "20     27.0       0          0     0       0         0       0      0      0   \n",
      "...     ...     ...        ...   ...     ...       ...     ...    ...    ...   \n",
      "31727  34.0       1          0     0       0         0       0      0      0   \n",
      "31728  34.0       1          0     0       0         0       0      0      0   \n",
      "31731  32.0       1          0     0       1         0       0      0      0   \n",
      "31736  28.0       0          0     0       0         0       0      1      0   \n",
      "31737  28.0       0          0     0       0         0       0      1      0   \n",
      "\n",
      "       fantasy  ...  shounen ai  slice of life  space  sports  super power  \\\n",
      "16           0  ...           0              0      0       0            0   \n",
      "17           0  ...           0              0      0       0            0   \n",
      "18           0  ...           0              0      0       0            0   \n",
      "19           0  ...           0              0      0       0            0   \n",
      "20           0  ...           0              0      0       0            0   \n",
      "...        ...  ...         ...            ...    ...     ...          ...   \n",
      "31727        0  ...           0              0      0       0            0   \n",
      "31728        0  ...           0              0      0       0            0   \n",
      "31731        0  ...           0              0      0       0            1   \n",
      "31736        0  ...           0              0      0       0            0   \n",
      "31737        0  ...           0              0      0       0            0   \n",
      "\n",
      "       supernatural  thriller  vampire  yaoi  yuri  \n",
      "16                0         0        0     0     0  \n",
      "17                0         0        0     0     0  \n",
      "18                0         0        0     0     0  \n",
      "19                0         0        0     0     0  \n",
      "20                0         0        0     0     0  \n",
      "...             ...       ...      ...   ...   ...  \n",
      "31727             0         0        0     0     0  \n",
      "31728             0         0        0     0     0  \n",
      "31731             0         0        0     0     0  \n",
      "31736             0         0        0     0     0  \n",
      "31737             0         0        0     0     0  \n",
      "\n",
      "[17006 rows x 44 columns]\n"
     ]
    }
   ],
   "source": [
    "\n",
    "# Concatenating genre_dummies and age_column along the columns axis (axis=1)\n",
    "df = pd.concat([ age_column, genre_dummies], axis=1)\n",
    "print(df)\n"
   ]
  },
  {
   "cell_type": "code",
   "execution_count": 36,
   "metadata": {},
   "outputs": [
    {
     "name": "stdout",
     "output_type": "stream",
     "text": [
      "age              0\n",
      "action           0\n",
      "adventure        0\n",
      "cars             0\n",
      "comedy           0\n",
      "dementia         0\n",
      "demons           0\n",
      "drama            0\n",
      "ecchi            0\n",
      "fantasy          0\n",
      "game             0\n",
      "harem            0\n",
      "hentai           0\n",
      "historical       0\n",
      "horror           0\n",
      "josei            0\n",
      "kids             0\n",
      "magic            0\n",
      "martial arts     0\n",
      "mecha            0\n",
      "military         0\n",
      "music            0\n",
      "mystery          0\n",
      "parody           0\n",
      "police           0\n",
      "psychological    0\n",
      "romance          0\n",
      "samurai          0\n",
      "school           0\n",
      "sci-fi           0\n",
      "seinen           0\n",
      "shoujo           0\n",
      "shoujo ai        0\n",
      "shounen          0\n",
      "shounen ai       0\n",
      "slice of life    0\n",
      "space            0\n",
      "sports           0\n",
      "super power      0\n",
      "supernatural     0\n",
      "thriller         0\n",
      "vampire          0\n",
      "yaoi             0\n",
      "yuri             0\n",
      "dtype: int64\n"
     ]
    }
   ],
   "source": [
    "# Checking for missing values\n",
    "print(df.isnull().sum())"
   ]
  },
  {
   "cell_type": "code",
   "execution_count": 37,
   "metadata": {},
   "outputs": [
    {
     "name": "stdout",
     "output_type": "stream",
     "text": [
      "     age  action  adventure  cars  comedy  dementia  demons  drama  ecchi  \\\n",
      "16  27.0       0          1     0       0         0       0      1      0   \n",
      "17  27.0       0          1     0       0         0       0      1      0   \n",
      "18  27.0       0          1     0       0         0       0      1      0   \n",
      "19  27.0       0          1     0       0         0       0      1      0   \n",
      "20  27.0       0          0     0       0         0       0      0      0   \n",
      "\n",
      "    fantasy  ...  shounen ai  slice of life  space  sports  super power  \\\n",
      "16        0  ...           0              0      0       0            0   \n",
      "17        0  ...           0              0      0       0            0   \n",
      "18        0  ...           0              0      0       0            0   \n",
      "19        0  ...           0              0      0       0            0   \n",
      "20        0  ...           0              0      0       0            0   \n",
      "\n",
      "    supernatural  thriller  vampire  yaoi  yuri  \n",
      "16             0         0        0     0     0  \n",
      "17             0         0        0     0     0  \n",
      "18             0         0        0     0     0  \n",
      "19             0         0        0     0     0  \n",
      "20             0         0        0     0     0  \n",
      "\n",
      "[5 rows x 44 columns]\n"
     ]
    }
   ],
   "source": [
    "print(df.head())"
   ]
  },
  {
   "cell_type": "code",
   "execution_count": 38,
   "metadata": {},
   "outputs": [
    {
     "name": "stdout",
     "output_type": "stream",
     "text": [
      "<class 'pandas.core.frame.DataFrame'>\n",
      "Index: 17006 entries, 16 to 31737\n",
      "Data columns (total 44 columns):\n",
      " #   Column         Non-Null Count  Dtype  \n",
      "---  ------         --------------  -----  \n",
      " 0   age            17006 non-null  float64\n",
      " 1   action         17006 non-null  int64  \n",
      " 2   adventure      17006 non-null  int64  \n",
      " 3   cars           17006 non-null  int64  \n",
      " 4   comedy         17006 non-null  int64  \n",
      " 5   dementia       17006 non-null  int64  \n",
      " 6   demons         17006 non-null  int64  \n",
      " 7   drama          17006 non-null  int64  \n",
      " 8   ecchi          17006 non-null  int64  \n",
      " 9   fantasy        17006 non-null  int64  \n",
      " 10  game           17006 non-null  int64  \n",
      " 11  harem          17006 non-null  int64  \n",
      " 12  hentai         17006 non-null  int64  \n",
      " 13  historical     17006 non-null  int64  \n",
      " 14  horror         17006 non-null  int64  \n",
      " 15  josei          17006 non-null  int64  \n",
      " 16  kids           17006 non-null  int64  \n",
      " 17  magic          17006 non-null  int64  \n",
      " 18  martial arts   17006 non-null  int64  \n",
      " 19  mecha          17006 non-null  int64  \n",
      " 20  military       17006 non-null  int64  \n",
      " 21  music          17006 non-null  int64  \n",
      " 22  mystery        17006 non-null  int64  \n",
      " 23  parody         17006 non-null  int64  \n",
      " 24  police         17006 non-null  int64  \n",
      " 25  psychological  17006 non-null  int64  \n",
      " 26  romance        17006 non-null  int64  \n",
      " 27  samurai        17006 non-null  int64  \n",
      " 28  school         17006 non-null  int64  \n",
      " 29  sci-fi         17006 non-null  int64  \n",
      " 30  seinen         17006 non-null  int64  \n",
      " 31  shoujo         17006 non-null  int64  \n",
      " 32  shoujo ai      17006 non-null  int64  \n",
      " 33  shounen        17006 non-null  int64  \n",
      " 34  shounen ai     17006 non-null  int64  \n",
      " 35  slice of life  17006 non-null  int64  \n",
      " 36  space          17006 non-null  int64  \n",
      " 37  sports         17006 non-null  int64  \n",
      " 38  super power    17006 non-null  int64  \n",
      " 39  supernatural   17006 non-null  int64  \n",
      " 40  thriller       17006 non-null  int64  \n",
      " 41  vampire        17006 non-null  int64  \n",
      " 42  yaoi           17006 non-null  int64  \n",
      " 43  yuri           17006 non-null  int64  \n",
      "dtypes: float64(1), int64(43)\n",
      "memory usage: 5.8 MB\n",
      "None\n"
     ]
    }
   ],
   "source": [
    "print(df.info())\n"
   ]
  }
 ],
 "metadata": {
  "kernelspec": {
   "display_name": "Python 3",
   "language": "python",
   "name": "python3"
  },
  "language_info": {
   "codemirror_mode": {
    "name": "ipython",
    "version": 3
   },
   "file_extension": ".py",
   "mimetype": "text/x-python",
   "name": "python",
   "nbconvert_exporter": "python",
   "pygments_lexer": "ipython3",
   "version": "3.11.3"
  }
 },
 "nbformat": 4,
 "nbformat_minor": 2
}
