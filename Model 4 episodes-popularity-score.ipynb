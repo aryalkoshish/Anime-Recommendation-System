{
 "cells": [
  {
   "cell_type": "code",
   "execution_count": 6,
   "metadata": {},
   "outputs": [
    {
     "name": "stdout",
     "output_type": "stream",
     "text": [
      "     uid                             title  \\\n",
      "0  28891           Haikyuu!! Second Season   \n",
      "1  23273           Shigatsu wa Kimi no Uso   \n",
      "2  34599                     Made in Abyss   \n",
      "3   5114  Fullmetal Alchemist: Brotherhood   \n",
      "4  31758  Kizumonogatari III: Reiketsu-hen   \n",
      "\n",
      "                                            synopsis  \\\n",
      "0  Following their participation at the Inter-Hig...   \n",
      "1  Music accompanies the path of the human metron...   \n",
      "2  The Abyss—a gaping chasm stretching down into ...   \n",
      "3  \"In order for something to be obtained, someth...   \n",
      "4  After helping revive the legendary vampire Kis...   \n",
      "\n",
      "                                               genre  \\\n",
      "0  ['Comedy', 'Sports', 'Drama', 'School', 'Shoun...   \n",
      "1  ['Drama', 'Music', 'Romance', 'School', 'Shoun...   \n",
      "2  ['Sci-Fi', 'Adventure', 'Mystery', 'Drama', 'F...   \n",
      "3  ['Action', 'Military', 'Adventure', 'Comedy', ...   \n",
      "4   ['Action', 'Mystery', 'Supernatural', 'Vampire']   \n",
      "\n",
      "                          aired  episodes  members  popularity  ranked  score  \\\n",
      "0   Oct 4, 2015 to Mar 27, 2016      25.0   489888         141    25.0   8.82   \n",
      "1  Oct 10, 2014 to Mar 20, 2015      22.0   995473          28    24.0   8.83   \n",
      "2   Jul 7, 2017 to Sep 29, 2017      13.0   581663          98    23.0   8.83   \n",
      "3    Apr 5, 2009 to Jul 4, 2010      64.0  1615084           4     1.0   9.23   \n",
      "4                   Jan 6, 2017       1.0   214621         502    22.0   8.83   \n",
      "\n",
      "                                             img_url  \\\n",
      "0  https://cdn.myanimelist.net/images/anime/9/766...   \n",
      "1  https://cdn.myanimelist.net/images/anime/3/671...   \n",
      "2  https://cdn.myanimelist.net/images/anime/6/867...   \n",
      "3  https://cdn.myanimelist.net/images/anime/1223/...   \n",
      "4  https://cdn.myanimelist.net/images/anime/3/815...   \n",
      "\n",
      "                                                link  \n",
      "0  https://myanimelist.net/anime/28891/Haikyuu_Se...  \n",
      "1  https://myanimelist.net/anime/23273/Shigatsu_w...  \n",
      "2  https://myanimelist.net/anime/34599/Made_in_Abyss  \n",
      "3  https://myanimelist.net/anime/5114/Fullmetal_A...  \n",
      "4  https://myanimelist.net/anime/31758/Kizumonoga...  \n"
     ]
    }
   ],
   "source": [
    "import pandas as pd\n",
    "import numpy as np\n",
    "import matplotlib.pyplot as plt\n",
    "import seaborn as sns\n",
    "import os\n",
    "\n",
    "\n",
    "anime_data = pd.read_csv('animes.csv')\n",
    "print(anime_data.head())\n"
   ]
  },
  {
   "cell_type": "code",
   "execution_count": 7,
   "metadata": {},
   "outputs": [
    {
     "name": "stdout",
     "output_type": "stream",
     "text": [
      "<class 'pandas.core.frame.DataFrame'>\n",
      "RangeIndex: 19311 entries, 0 to 19310\n",
      "Data columns (total 12 columns):\n",
      " #   Column      Non-Null Count  Dtype  \n",
      "---  ------      --------------  -----  \n",
      " 0   uid         19311 non-null  int64  \n",
      " 1   title       19311 non-null  object \n",
      " 2   synopsis    18336 non-null  object \n",
      " 3   genre       19311 non-null  object \n",
      " 4   aired       19311 non-null  object \n",
      " 5   episodes    18605 non-null  float64\n",
      " 6   members     19311 non-null  int64  \n",
      " 7   popularity  19311 non-null  int64  \n",
      " 8   ranked      16099 non-null  float64\n",
      " 9   score       18732 non-null  float64\n",
      " 10  img_url     19131 non-null  object \n",
      " 11  link        19311 non-null  object \n",
      "dtypes: float64(3), int64(3), object(6)\n",
      "memory usage: 1.8+ MB\n"
     ]
    }
   ],
   "source": [
    "# Get information about the data\n",
    "anime_data.info()\n"
   ]
  },
  {
   "cell_type": "code",
   "execution_count": 8,
   "metadata": {},
   "outputs": [
    {
     "data": {
      "text/html": [
       "<div>\n",
       "<style scoped>\n",
       "    .dataframe tbody tr th:only-of-type {\n",
       "        vertical-align: middle;\n",
       "    }\n",
       "\n",
       "    .dataframe tbody tr th {\n",
       "        vertical-align: top;\n",
       "    }\n",
       "\n",
       "    .dataframe thead th {\n",
       "        text-align: right;\n",
       "    }\n",
       "</style>\n",
       "<table border=\"1\" class=\"dataframe\">\n",
       "  <thead>\n",
       "    <tr style=\"text-align: right;\">\n",
       "      <th></th>\n",
       "      <th>uid</th>\n",
       "      <th>episodes</th>\n",
       "      <th>members</th>\n",
       "      <th>popularity</th>\n",
       "      <th>ranked</th>\n",
       "      <th>score</th>\n",
       "    </tr>\n",
       "  </thead>\n",
       "  <tbody>\n",
       "    <tr>\n",
       "      <th>count</th>\n",
       "      <td>19311.000000</td>\n",
       "      <td>18605.000000</td>\n",
       "      <td>1.931100e+04</td>\n",
       "      <td>19311.000000</td>\n",
       "      <td>16099.000000</td>\n",
       "      <td>18732.000000</td>\n",
       "    </tr>\n",
       "    <tr>\n",
       "      <th>mean</th>\n",
       "      <td>19358.904096</td>\n",
       "      <td>11.460414</td>\n",
       "      <td>3.472609e+04</td>\n",
       "      <td>7720.830304</td>\n",
       "      <td>6866.524194</td>\n",
       "      <td>6.436107</td>\n",
       "    </tr>\n",
       "    <tr>\n",
       "      <th>std</th>\n",
       "      <td>14271.446515</td>\n",
       "      <td>47.950386</td>\n",
       "      <td>1.121772e+05</td>\n",
       "      <td>4676.786104</td>\n",
       "      <td>4390.018768</td>\n",
       "      <td>1.007941</td>\n",
       "    </tr>\n",
       "    <tr>\n",
       "      <th>min</th>\n",
       "      <td>1.000000</td>\n",
       "      <td>1.000000</td>\n",
       "      <td>2.500000e+01</td>\n",
       "      <td>1.000000</td>\n",
       "      <td>1.000000</td>\n",
       "      <td>1.250000</td>\n",
       "    </tr>\n",
       "    <tr>\n",
       "      <th>25%</th>\n",
       "      <td>4833.500000</td>\n",
       "      <td>1.000000</td>\n",
       "      <td>3.880000e+02</td>\n",
       "      <td>3725.000000</td>\n",
       "      <td>2895.500000</td>\n",
       "      <td>5.770000</td>\n",
       "    </tr>\n",
       "    <tr>\n",
       "      <th>50%</th>\n",
       "      <td>18327.000000</td>\n",
       "      <td>2.000000</td>\n",
       "      <td>2.389000e+03</td>\n",
       "      <td>7539.000000</td>\n",
       "      <td>6963.000000</td>\n",
       "      <td>6.410000</td>\n",
       "    </tr>\n",
       "    <tr>\n",
       "      <th>75%</th>\n",
       "      <td>33896.500000</td>\n",
       "      <td>12.000000</td>\n",
       "      <td>1.450150e+04</td>\n",
       "      <td>11613.000000</td>\n",
       "      <td>10601.500000</td>\n",
       "      <td>7.150000</td>\n",
       "    </tr>\n",
       "    <tr>\n",
       "      <th>max</th>\n",
       "      <td>40960.000000</td>\n",
       "      <td>3057.000000</td>\n",
       "      <td>1.871043e+06</td>\n",
       "      <td>16338.000000</td>\n",
       "      <td>14675.000000</td>\n",
       "      <td>9.230000</td>\n",
       "    </tr>\n",
       "  </tbody>\n",
       "</table>\n",
       "</div>"
      ],
      "text/plain": [
       "                uid      episodes       members    popularity        ranked  \\\n",
       "count  19311.000000  18605.000000  1.931100e+04  19311.000000  16099.000000   \n",
       "mean   19358.904096     11.460414  3.472609e+04   7720.830304   6866.524194   \n",
       "std    14271.446515     47.950386  1.121772e+05   4676.786104   4390.018768   \n",
       "min        1.000000      1.000000  2.500000e+01      1.000000      1.000000   \n",
       "25%     4833.500000      1.000000  3.880000e+02   3725.000000   2895.500000   \n",
       "50%    18327.000000      2.000000  2.389000e+03   7539.000000   6963.000000   \n",
       "75%    33896.500000     12.000000  1.450150e+04  11613.000000  10601.500000   \n",
       "max    40960.000000   3057.000000  1.871043e+06  16338.000000  14675.000000   \n",
       "\n",
       "              score  \n",
       "count  18732.000000  \n",
       "mean       6.436107  \n",
       "std        1.007941  \n",
       "min        1.250000  \n",
       "25%        5.770000  \n",
       "50%        6.410000  \n",
       "75%        7.150000  \n",
       "max        9.230000  "
      ]
     },
     "execution_count": 8,
     "metadata": {},
     "output_type": "execute_result"
    }
   ],
   "source": [
    "# Describe the data\n",
    "anime_data.describe()"
   ]
  },
  {
   "cell_type": "code",
   "execution_count": 9,
   "metadata": {},
   "outputs": [
    {
     "data": {
      "text/plain": [
       "uid              0\n",
       "title            0\n",
       "synopsis       975\n",
       "genre            0\n",
       "aired            0\n",
       "episodes       706\n",
       "members          0\n",
       "popularity       0\n",
       "ranked        3212\n",
       "score          579\n",
       "img_url        180\n",
       "link             0\n",
       "dtype: int64"
      ]
     },
     "execution_count": 9,
     "metadata": {},
     "output_type": "execute_result"
    }
   ],
   "source": [
    "anime_data.isnull().sum()\n"
   ]
  },
  {
   "cell_type": "code",
   "execution_count": 10,
   "metadata": {},
   "outputs": [
    {
     "name": "stdout",
     "output_type": "stream",
     "text": [
      "Number of outliers in 'ranked' column: 0\n",
      "Number of outliers in 'score' column: 0\n"
     ]
    }
   ],
   "source": [
    "from scipy import stats\n",
    "\n",
    "# Calculate z-scores for the \"ranked\" and \"score\" columns\n",
    "z_scores_ranked = stats.zscore(anime_data['ranked'])\n",
    "z_scores_score = stats.zscore(anime_data['score'])\n",
    "\n",
    "# Check for outliers\n",
    "outliers_ranked = (z_scores_ranked > 3) | (z_scores_ranked < -3)\n",
    "outliers_score = (z_scores_score > 3) | (z_scores_score < -3)\n",
    "\n",
    "# Print the number of outliers\n",
    "print(\"Number of outliers in 'ranked' column:\", outliers_ranked.sum())\n",
    "print(\"Number of outliers in 'score' column:\", outliers_score.sum())\n"
   ]
  },
  {
   "cell_type": "code",
   "execution_count": 11,
   "metadata": {},
   "outputs": [
    {
     "data": {
      "text/plain": [
       "uid              0\n",
       "title            0\n",
       "synopsis       975\n",
       "genre            0\n",
       "aired            0\n",
       "episodes       706\n",
       "members          0\n",
       "popularity       0\n",
       "ranked        3212\n",
       "score            0\n",
       "img_url        180\n",
       "link             0\n",
       "dtype: int64"
      ]
     },
     "execution_count": 11,
     "metadata": {},
     "output_type": "execute_result"
    }
   ],
   "source": [
    "anime_data['score'] = anime_data['score'].interpolate()\n",
    "anime_data.isnull().sum()"
   ]
  },
  {
   "cell_type": "code",
   "execution_count": 12,
   "metadata": {},
   "outputs": [
    {
     "data": {
      "text/html": [
       "<div>\n",
       "<style scoped>\n",
       "    .dataframe tbody tr th:only-of-type {\n",
       "        vertical-align: middle;\n",
       "    }\n",
       "\n",
       "    .dataframe tbody tr th {\n",
       "        vertical-align: top;\n",
       "    }\n",
       "\n",
       "    .dataframe thead th {\n",
       "        text-align: right;\n",
       "    }\n",
       "</style>\n",
       "<table border=\"1\" class=\"dataframe\">\n",
       "  <thead>\n",
       "    <tr style=\"text-align: right;\">\n",
       "      <th></th>\n",
       "      <th>uid</th>\n",
       "      <th>title</th>\n",
       "      <th>synopsis</th>\n",
       "      <th>genre</th>\n",
       "      <th>aired</th>\n",
       "      <th>episodes</th>\n",
       "      <th>members</th>\n",
       "      <th>popularity</th>\n",
       "      <th>ranked</th>\n",
       "      <th>score</th>\n",
       "      <th>img_url</th>\n",
       "      <th>link</th>\n",
       "    </tr>\n",
       "  </thead>\n",
       "  <tbody>\n",
       "    <tr>\n",
       "      <th>0</th>\n",
       "      <td>28891</td>\n",
       "      <td>Haikyuu!! Second Season</td>\n",
       "      <td>Following their participation at the Inter-Hig...</td>\n",
       "      <td>['Comedy', 'Sports', 'Drama', 'School', 'Shoun...</td>\n",
       "      <td>Oct 4, 2015 to Mar 27, 2016</td>\n",
       "      <td>25.0</td>\n",
       "      <td>489888</td>\n",
       "      <td>141</td>\n",
       "      <td>25.0</td>\n",
       "      <td>8.82</td>\n",
       "      <td>https://cdn.myanimelist.net/images/anime/9/766...</td>\n",
       "      <td>https://myanimelist.net/anime/28891/Haikyuu_Se...</td>\n",
       "    </tr>\n",
       "    <tr>\n",
       "      <th>1</th>\n",
       "      <td>23273</td>\n",
       "      <td>Shigatsu wa Kimi no Uso</td>\n",
       "      <td>Music accompanies the path of the human metron...</td>\n",
       "      <td>['Drama', 'Music', 'Romance', 'School', 'Shoun...</td>\n",
       "      <td>Oct 10, 2014 to Mar 20, 2015</td>\n",
       "      <td>22.0</td>\n",
       "      <td>995473</td>\n",
       "      <td>28</td>\n",
       "      <td>24.0</td>\n",
       "      <td>8.83</td>\n",
       "      <td>https://cdn.myanimelist.net/images/anime/3/671...</td>\n",
       "      <td>https://myanimelist.net/anime/23273/Shigatsu_w...</td>\n",
       "    </tr>\n",
       "    <tr>\n",
       "      <th>2</th>\n",
       "      <td>34599</td>\n",
       "      <td>Made in Abyss</td>\n",
       "      <td>The Abyss—a gaping chasm stretching down into ...</td>\n",
       "      <td>['Sci-Fi', 'Adventure', 'Mystery', 'Drama', 'F...</td>\n",
       "      <td>Jul 7, 2017 to Sep 29, 2017</td>\n",
       "      <td>13.0</td>\n",
       "      <td>581663</td>\n",
       "      <td>98</td>\n",
       "      <td>23.0</td>\n",
       "      <td>8.83</td>\n",
       "      <td>https://cdn.myanimelist.net/images/anime/6/867...</td>\n",
       "      <td>https://myanimelist.net/anime/34599/Made_in_Abyss</td>\n",
       "    </tr>\n",
       "    <tr>\n",
       "      <th>3</th>\n",
       "      <td>5114</td>\n",
       "      <td>Fullmetal Alchemist: Brotherhood</td>\n",
       "      <td>\"In order for something to be obtained, someth...</td>\n",
       "      <td>['Action', 'Military', 'Adventure', 'Comedy', ...</td>\n",
       "      <td>Apr 5, 2009 to Jul 4, 2010</td>\n",
       "      <td>64.0</td>\n",
       "      <td>1615084</td>\n",
       "      <td>4</td>\n",
       "      <td>1.0</td>\n",
       "      <td>9.23</td>\n",
       "      <td>https://cdn.myanimelist.net/images/anime/1223/...</td>\n",
       "      <td>https://myanimelist.net/anime/5114/Fullmetal_A...</td>\n",
       "    </tr>\n",
       "    <tr>\n",
       "      <th>4</th>\n",
       "      <td>31758</td>\n",
       "      <td>Kizumonogatari III: Reiketsu-hen</td>\n",
       "      <td>After helping revive the legendary vampire Kis...</td>\n",
       "      <td>['Action', 'Mystery', 'Supernatural', 'Vampire']</td>\n",
       "      <td>Jan 6, 2017</td>\n",
       "      <td>1.0</td>\n",
       "      <td>214621</td>\n",
       "      <td>502</td>\n",
       "      <td>22.0</td>\n",
       "      <td>8.83</td>\n",
       "      <td>https://cdn.myanimelist.net/images/anime/3/815...</td>\n",
       "      <td>https://myanimelist.net/anime/31758/Kizumonoga...</td>\n",
       "    </tr>\n",
       "    <tr>\n",
       "      <th>...</th>\n",
       "      <td>...</td>\n",
       "      <td>...</td>\n",
       "      <td>...</td>\n",
       "      <td>...</td>\n",
       "      <td>...</td>\n",
       "      <td>...</td>\n",
       "      <td>...</td>\n",
       "      <td>...</td>\n",
       "      <td>...</td>\n",
       "      <td>...</td>\n",
       "      <td>...</td>\n",
       "      <td>...</td>\n",
       "    </tr>\n",
       "    <tr>\n",
       "      <th>19306</th>\n",
       "      <td>32979</td>\n",
       "      <td>Flip Flappers</td>\n",
       "      <td>Cocona is an average middle schooler living wi...</td>\n",
       "      <td>['Sci-Fi', 'Adventure', 'Comedy', 'Magic']</td>\n",
       "      <td>Oct 6, 2016 to Dec 29, 2016</td>\n",
       "      <td>13.0</td>\n",
       "      <td>134252</td>\n",
       "      <td>843</td>\n",
       "      <td>1070.0</td>\n",
       "      <td>7.73</td>\n",
       "      <td>https://cdn.myanimelist.net/images/anime/4/822...</td>\n",
       "      <td>https://myanimelist.net/anime/32979/Flip_Flappers</td>\n",
       "    </tr>\n",
       "    <tr>\n",
       "      <th>19307</th>\n",
       "      <td>123</td>\n",
       "      <td>Fushigi Yuugi</td>\n",
       "      <td>While visiting the National Library, junior-hi...</td>\n",
       "      <td>['Adventure', 'Fantasy', 'Magic', 'Martial Art...</td>\n",
       "      <td>Apr 6, 1995 to Mar 28, 1996</td>\n",
       "      <td>52.0</td>\n",
       "      <td>84407</td>\n",
       "      <td>1292</td>\n",
       "      <td>1071.0</td>\n",
       "      <td>7.73</td>\n",
       "      <td>https://cdn.myanimelist.net/images/anime/2/201...</td>\n",
       "      <td>https://myanimelist.net/anime/123/Fushigi_Yuugi</td>\n",
       "    </tr>\n",
       "    <tr>\n",
       "      <th>19308</th>\n",
       "      <td>1281</td>\n",
       "      <td>Gakkou no Kaidan</td>\n",
       "      <td>Years ago, all of the ghosts in a haunted scho...</td>\n",
       "      <td>['Mystery', 'Horror', 'Supernatural']</td>\n",
       "      <td>Oct 22, 2000 to Mar 25, 2001</td>\n",
       "      <td>19.0</td>\n",
       "      <td>83093</td>\n",
       "      <td>1314</td>\n",
       "      <td>1073.0</td>\n",
       "      <td>7.73</td>\n",
       "      <td>https://cdn.myanimelist.net/images/anime/9/183...</td>\n",
       "      <td>https://myanimelist.net/anime/1281/Gakkou_no_K...</td>\n",
       "    </tr>\n",
       "    <tr>\n",
       "      <th>19309</th>\n",
       "      <td>450</td>\n",
       "      <td>InuYasha Movie 2: Kagami no Naka no Mugenjo</td>\n",
       "      <td>Inuyasha and company have finally destroyed Na...</td>\n",
       "      <td>['Action', 'Adventure', 'Comedy', 'Historical'...</td>\n",
       "      <td>Dec 21, 2002</td>\n",
       "      <td>1.0</td>\n",
       "      <td>71989</td>\n",
       "      <td>1469</td>\n",
       "      <td>1077.0</td>\n",
       "      <td>7.73</td>\n",
       "      <td>https://cdn.myanimelist.net/images/anime/1162/...</td>\n",
       "      <td>https://myanimelist.net/anime/450/InuYasha_Mov...</td>\n",
       "    </tr>\n",
       "    <tr>\n",
       "      <th>19310</th>\n",
       "      <td>87</td>\n",
       "      <td>Mobile Suit Gundam: Char's Counterattack</td>\n",
       "      <td>The year is Universal Century 0093. Char Aznab...</td>\n",
       "      <td>['Military', 'Sci-Fi', 'Space', 'Drama', 'Mecha']</td>\n",
       "      <td>Mar 12, 1988</td>\n",
       "      <td>1.0</td>\n",
       "      <td>29248</td>\n",
       "      <td>2604</td>\n",
       "      <td>1081.0</td>\n",
       "      <td>7.73</td>\n",
       "      <td>https://cdn.myanimelist.net/images/anime/1523/...</td>\n",
       "      <td>https://myanimelist.net/anime/87/Mobile_Suit_G...</td>\n",
       "    </tr>\n",
       "  </tbody>\n",
       "</table>\n",
       "<p>15187 rows × 12 columns</p>\n",
       "</div>"
      ],
      "text/plain": [
       "         uid                                        title  \\\n",
       "0      28891                      Haikyuu!! Second Season   \n",
       "1      23273                      Shigatsu wa Kimi no Uso   \n",
       "2      34599                                Made in Abyss   \n",
       "3       5114             Fullmetal Alchemist: Brotherhood   \n",
       "4      31758             Kizumonogatari III: Reiketsu-hen   \n",
       "...      ...                                          ...   \n",
       "19306  32979                                Flip Flappers   \n",
       "19307    123                                Fushigi Yuugi   \n",
       "19308   1281                             Gakkou no Kaidan   \n",
       "19309    450  InuYasha Movie 2: Kagami no Naka no Mugenjo   \n",
       "19310     87     Mobile Suit Gundam: Char's Counterattack   \n",
       "\n",
       "                                                synopsis  \\\n",
       "0      Following their participation at the Inter-Hig...   \n",
       "1      Music accompanies the path of the human metron...   \n",
       "2      The Abyss—a gaping chasm stretching down into ...   \n",
       "3      \"In order for something to be obtained, someth...   \n",
       "4      After helping revive the legendary vampire Kis...   \n",
       "...                                                  ...   \n",
       "19306  Cocona is an average middle schooler living wi...   \n",
       "19307  While visiting the National Library, junior-hi...   \n",
       "19308  Years ago, all of the ghosts in a haunted scho...   \n",
       "19309  Inuyasha and company have finally destroyed Na...   \n",
       "19310  The year is Universal Century 0093. Char Aznab...   \n",
       "\n",
       "                                                   genre  \\\n",
       "0      ['Comedy', 'Sports', 'Drama', 'School', 'Shoun...   \n",
       "1      ['Drama', 'Music', 'Romance', 'School', 'Shoun...   \n",
       "2      ['Sci-Fi', 'Adventure', 'Mystery', 'Drama', 'F...   \n",
       "3      ['Action', 'Military', 'Adventure', 'Comedy', ...   \n",
       "4       ['Action', 'Mystery', 'Supernatural', 'Vampire']   \n",
       "...                                                  ...   \n",
       "19306         ['Sci-Fi', 'Adventure', 'Comedy', 'Magic']   \n",
       "19307  ['Adventure', 'Fantasy', 'Magic', 'Martial Art...   \n",
       "19308              ['Mystery', 'Horror', 'Supernatural']   \n",
       "19309  ['Action', 'Adventure', 'Comedy', 'Historical'...   \n",
       "19310  ['Military', 'Sci-Fi', 'Space', 'Drama', 'Mecha']   \n",
       "\n",
       "                              aired  episodes  members  popularity  ranked  \\\n",
       "0       Oct 4, 2015 to Mar 27, 2016      25.0   489888         141    25.0   \n",
       "1      Oct 10, 2014 to Mar 20, 2015      22.0   995473          28    24.0   \n",
       "2       Jul 7, 2017 to Sep 29, 2017      13.0   581663          98    23.0   \n",
       "3        Apr 5, 2009 to Jul 4, 2010      64.0  1615084           4     1.0   \n",
       "4                       Jan 6, 2017       1.0   214621         502    22.0   \n",
       "...                             ...       ...      ...         ...     ...   \n",
       "19306   Oct 6, 2016 to Dec 29, 2016      13.0   134252         843  1070.0   \n",
       "19307   Apr 6, 1995 to Mar 28, 1996      52.0    84407        1292  1071.0   \n",
       "19308  Oct 22, 2000 to Mar 25, 2001      19.0    83093        1314  1073.0   \n",
       "19309                  Dec 21, 2002       1.0    71989        1469  1077.0   \n",
       "19310                  Mar 12, 1988       1.0    29248        2604  1081.0   \n",
       "\n",
       "       score                                            img_url  \\\n",
       "0       8.82  https://cdn.myanimelist.net/images/anime/9/766...   \n",
       "1       8.83  https://cdn.myanimelist.net/images/anime/3/671...   \n",
       "2       8.83  https://cdn.myanimelist.net/images/anime/6/867...   \n",
       "3       9.23  https://cdn.myanimelist.net/images/anime/1223/...   \n",
       "4       8.83  https://cdn.myanimelist.net/images/anime/3/815...   \n",
       "...      ...                                                ...   \n",
       "19306   7.73  https://cdn.myanimelist.net/images/anime/4/822...   \n",
       "19307   7.73  https://cdn.myanimelist.net/images/anime/2/201...   \n",
       "19308   7.73  https://cdn.myanimelist.net/images/anime/9/183...   \n",
       "19309   7.73  https://cdn.myanimelist.net/images/anime/1162/...   \n",
       "19310   7.73  https://cdn.myanimelist.net/images/anime/1523/...   \n",
       "\n",
       "                                                    link  \n",
       "0      https://myanimelist.net/anime/28891/Haikyuu_Se...  \n",
       "1      https://myanimelist.net/anime/23273/Shigatsu_w...  \n",
       "2      https://myanimelist.net/anime/34599/Made_in_Abyss  \n",
       "3      https://myanimelist.net/anime/5114/Fullmetal_A...  \n",
       "4      https://myanimelist.net/anime/31758/Kizumonoga...  \n",
       "...                                                  ...  \n",
       "19306  https://myanimelist.net/anime/32979/Flip_Flappers  \n",
       "19307    https://myanimelist.net/anime/123/Fushigi_Yuugi  \n",
       "19308  https://myanimelist.net/anime/1281/Gakkou_no_K...  \n",
       "19309  https://myanimelist.net/anime/450/InuYasha_Mov...  \n",
       "19310  https://myanimelist.net/anime/87/Mobile_Suit_G...  \n",
       "\n",
       "[15187 rows x 12 columns]"
      ]
     },
     "execution_count": 12,
     "metadata": {},
     "output_type": "execute_result"
    }
   ],
   "source": [
    "anime_data.dropna(subset=['synopsis', 'episodes', 'ranked', 'img_url'], inplace=True)\n",
    "anime_data"
   ]
  },
  {
   "cell_type": "code",
   "execution_count": 13,
   "metadata": {},
   "outputs": [
    {
     "data": {
      "image/png": "[encoded data removed]",
      "text/plain": [
       "<Figure size 640x480 with 1 Axes>"
      ]
     },
     "metadata": {},
     "output_type": "display_data"
    }
   ],
   "source": [
    "# Scatter plot of popularity vs score\n",
    "plt.scatter(anime_data['popularity'], anime_data['score'])\n",
    "\n",
    "# Set the plot title and labels\n",
    "plt.title('Popularity vs Score')\n",
    "plt.xlabel('Popularity')\n",
    "plt.ylabel('Score')\n",
    "\n",
    "# Show the plot\n",
    "plt.show()\n"
   ]
  },
  {
   "cell_type": "code",
   "execution_count": 14,
   "metadata": {},
   "outputs": [
    {
     "data": {
      "image/png": "[encoded data removed]",
      "text/plain": [
       "<Figure size 640x480 with 1 Axes>"
      ]
     },
     "metadata": {},
     "output_type": "display_data"
    }
   ],
   "source": [
    "plt.scatter(anime_data['episodes'], anime_data['score'])\n",
    "plt.title('Episodes vs Score')\n",
    "plt.xlabel('Episodes')\n",
    "plt.ylabel('Score')\n",
    "plt.show()\n"
   ]
  },
  {
   "cell_type": "code",
   "execution_count": 15,
   "metadata": {},
   "outputs": [
    {
     "name": "stdout",
     "output_type": "stream",
     "text": [
      "Correlation between episodes and score: 0.07466317481197757\n"
     ]
    }
   ],
   "source": [
    "correlation = anime_data['episodes'].corr(anime_data['score'])\n",
    "print(\"Correlation between episodes and score:\", correlation)\n"
   ]
  },
  {
   "cell_type": "code",
   "execution_count": 16,
   "metadata": {},
   "outputs": [
    {
     "data": {
      "text/plain": [
       "<Axes: >"
      ]
     },
     "execution_count": 16,
     "metadata": {},
     "output_type": "execute_result"
    },
    {
     "data": {
      "image/png": "[encoded data removed]",
      "text/plain": [
       "<Figure size 640x480 with 2 Axes>"
      ]
     },
     "metadata": {},
     "output_type": "display_data"
    }
   ],
   "source": [
    "import seaborn as sns\n",
    "\n",
    "# Select the columns for the heatmap\n",
    "heatmap_data = anime_data[['episodes', 'popularity', 'score']]\n",
    "\n",
    "# Plot the heatmap\n",
    "sns.heatmap(heatmap_data.corr(), annot=True, cmap='coolwarm')\n"
   ]
  },
  {
   "cell_type": "code",
   "execution_count": 17,
   "metadata": {},
   "outputs": [
    {
     "data": {
      "text/plain": [
       "(15187, 12)"
      ]
     },
     "execution_count": 17,
     "metadata": {},
     "output_type": "execute_result"
    }
   ],
   "source": [
    "anime_data.shape"
   ]
  },
  {
   "cell_type": "code",
   "execution_count": 18,
   "metadata": {},
   "outputs": [
    {
     "name": "stdout",
     "output_type": "stream",
     "text": [
      "Mean Squared Error: 0.5463397234507983\n"
     ]
    }
   ],
   "source": [
    "#Multivariate Linear Regression\n",
    "from sklearn.linear_model import LinearRegression\n",
    "from sklearn.model_selection import train_test_split\n",
    "# Import necessary libraries\n",
    "from sklearn.linear_model import LinearRegression\n",
    "from sklearn.model_selection import train_test_split\n",
    "from sklearn.metrics import mean_squared_error\n",
    "\n",
    "# Select the features and target variable\n",
    "features = anime_data[['episodes', 'popularity']]\n",
    "target = anime_data['score']\n",
    "\n",
    "# Split the data into training and testing sets\n",
    "X_train, X_test, y_train, y_test = train_test_split(features, target, test_size=0.2, random_state=42)\n",
    "\n",
    "# Create and train the model\n",
    "model = LinearRegression()\n",
    "model.fit(X_train, y_train)\n",
    "\n",
    "# Make predictions\n",
    "y_pred = model.predict(X_test)\n",
    "\n",
    "# Evaluate the model\n",
    "mse = mean_squared_error(y_test, y_pred)\n",
    "print(\"Mean Squared Error:\", mse)\n",
    "from sklearn.metrics import mean_squared_error\n"
   ]
  },
  {
   "cell_type": "code",
   "execution_count": 19,
   "metadata": {},
   "outputs": [
    {
     "name": "stdout",
     "output_type": "stream",
     "text": [
      "Decision Tree Mean Squared Error: 0.7997390598712603\n",
      "Random Forest Mean Squared Error: 0.5817729710882448\n"
     ]
    }
   ],
   "source": [
    "#Decision tree and randon forest\n",
    "from sklearn.tree import DecisionTreeRegressor\n",
    "from sklearn.ensemble import RandomForestRegressor\n",
    "from sklearn.model_selection import train_test_split\n",
    "from sklearn.metrics import mean_squared_error\n",
    "# Create and train the decision tree model\n",
    "decision_tree = DecisionTreeRegressor()\n",
    "decision_tree.fit(X_train, y_train)\n",
    "\n",
    "# Make predictions using the decision tree model\n",
    "y_pred_dt = decision_tree.predict(X_test)\n",
    "\n",
    "# Evaluate the decision tree model\n",
    "mse_dt = mean_squared_error(y_test, y_pred_dt)\n",
    "print(\"Decision Tree Mean Squared Error:\", mse_dt)\n",
    "# Create and train the random forest model\n",
    "random_forest = RandomForestRegressor()\n",
    "random_forest.fit(X_train, y_train)\n",
    "\n",
    "# Make predictions using the random forest model\n",
    "y_pred_rf = random_forest.predict(X_test)\n",
    "\n",
    "# Evaluate the random forest model\n",
    "mse_rf = mean_squared_error(y_test, y_pred_rf)\n",
    "print(\"Random Forest Mean Squared Error:\", mse_rf)"
   ]
  }
 ],
 "metadata": {
  "kernelspec": {
   "display_name": "base",
   "language": "python",
   "name": "python3"
  },
  "language_info": {
   "codemirror_mode": {
    "name": "ipython",
    "version": 3
   },
   "file_extension": ".py",
   "mimetype": "text/x-python",
   "name": "python",
   "nbconvert_exporter": "python",
   "pygments_lexer": "ipython3",
   "version": "3.11.5"
  }
 },
 "nbformat": 4,
 "nbformat_minor": 2
}
